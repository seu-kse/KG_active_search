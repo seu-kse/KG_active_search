{
 "cells": [
  {
   "cell_type": "code",
   "execution_count": 1,
   "metadata": {
    "collapsed": true
   },
   "outputs": [],
   "source": [
    "import pickle"
   ]
  },
  {
   "cell_type": "code",
   "execution_count": 2,
   "metadata": {
    "collapsed": true
   },
   "outputs": [],
   "source": [
    "with open(\"./neighbor_info.pkl\", \"rb\") as f:\n",
    "    ni = pickle.load(f)"
   ]
  },
  {
   "cell_type": "code",
   "execution_count": 3,
   "metadata": {},
   "outputs": [
    {
     "name": "stdout",
     "output_type": "stream",
     "text": [
      "0 55\n",
      "1 84\n",
      "4 1655\n",
      "9 1785\n",
      "11 1797\n",
      "32 8642\n",
      "8642\n"
     ]
    }
   ],
   "source": [
    "max = 0\n",
    "for n in ni:\n",
    "    if len(ni[n][0]) > max:\n",
    "        max = len(ni[n][0])\n",
    "        print(n, max)\n",
    "print(max)"
   ]
  },
  {
   "cell_type": "code",
   "execution_count": 5,
   "metadata": {},
   "outputs": [],
   "source": [
    "for n in ni:\n",
    "    c = ni[n]\n",
    "    if (len(c[0]) < max):\n",
    "        c[0] += [-1] * (max - len(c[0]))\n",
    "        c[1] += [-1] * (max - len(c[1]))"
   ]
  },
  {
   "cell_type": "code",
   "execution_count": 9,
   "metadata": {},
   "outputs": [],
   "source": [
    "for n in ni:\n",
    "    c = ni[n]\n",
    "    assert len(c[0]) == max\n",
    "    assert len(c[1]) == max"
   ]
  },
  {
   "cell_type": "code",
   "execution_count": 10,
   "metadata": {
    "collapsed": true
   },
   "outputs": [],
   "source": [
    "pickle.dump(ni, open(\"./neighbor_info_padding.pkl\", \"wb\"))"
   ]
  }
 ],
 "metadata": {
  "kernelspec": {
   "display_name": "Python 3",
   "language": "python",
   "name": "python3"
  },
  "language_info": {
   "codemirror_mode": {
    "name": "ipython",
    "version": 3
   },
   "file_extension": ".py",
   "mimetype": "text/x-python",
   "name": "python",
   "nbconvert_exporter": "python",
   "pygments_lexer": "ipython3",
   "version": "3.6.1"
  }
 },
 "nbformat": 4,
 "nbformat_minor": 2
}
